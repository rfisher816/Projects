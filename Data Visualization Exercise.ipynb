{
 "cells": [
  {
   "cell_type": "code",
   "execution_count": 27,
   "metadata": {},
   "outputs": [],
   "source": [
    "import os\n",
    "import pandas as pd\n",
    "import datetime\n",
    "import seaborn as sns\n",
    "import matplotlib.pyplot as plt\n",
    "import numpy as np\n",
    "%matplotlib inline"
   ]
  },
  {
   "cell_type": "code",
   "execution_count": 30,
   "metadata": {},
   "outputs": [
    {
     "data": {
      "text/plain": [
       "'/Users/ryanfisher/Documents/Springboard/Springboard/Data Vis'"
      ]
     },
     "execution_count": 30,
     "metadata": {},
     "output_type": "execute_result"
    }
   ],
   "source": [
    "os.getcwd()"
   ]
  },
  {
   "cell_type": "code",
   "execution_count": 33,
   "metadata": {},
   "outputs": [
    {
     "data": {
      "text/plain": [
       "['.DS_Store',\n",
       " 'Chicago_Crimes_2008_to_2011.csv',\n",
       " 'Data Visualization Exercise.ipynb',\n",
       " 'Chicago_Crimes_2001_to_2004.csv',\n",
       " 'Chicago_Crimes_2012_to_2017.csv',\n",
       " 'archive-3',\n",
       " 'Chicago_Crimes_2005_to_2007.csv',\n",
       " '.ipynb_checkpoints']"
      ]
     },
     "execution_count": 33,
     "metadata": {},
     "output_type": "execute_result"
    }
   ],
   "source": [
    "os.listdir()"
   ]
  },
  {
   "cell_type": "code",
   "execution_count": 189,
   "metadata": {},
   "outputs": [],
   "source": [
    "crime = pd.read_csv('Chicago_Crimes_2012_to_2017.csv', header=0)\n",
    "#crime.head()"
   ]
  },
  {
   "cell_type": "code",
   "execution_count": 190,
   "metadata": {},
   "outputs": [],
   "source": [
    "del crime['Unnamed: 0']"
   ]
  },
  {
   "cell_type": "code",
   "execution_count": 191,
   "metadata": {},
   "outputs": [
    {
     "data": {
      "text/html": [
       "<div>\n",
       "<style scoped>\n",
       "    .dataframe tbody tr th:only-of-type {\n",
       "        vertical-align: middle;\n",
       "    }\n",
       "\n",
       "    .dataframe tbody tr th {\n",
       "        vertical-align: top;\n",
       "    }\n",
       "\n",
       "    .dataframe thead th {\n",
       "        text-align: right;\n",
       "    }\n",
       "</style>\n",
       "<table border=\"1\" class=\"dataframe\">\n",
       "  <thead>\n",
       "    <tr style=\"text-align: right;\">\n",
       "      <th></th>\n",
       "      <th>ID</th>\n",
       "      <th>Case Number</th>\n",
       "      <th>Date</th>\n",
       "      <th>Block</th>\n",
       "      <th>IUCR</th>\n",
       "      <th>Primary Type</th>\n",
       "      <th>Description</th>\n",
       "      <th>Location Description</th>\n",
       "      <th>Arrest</th>\n",
       "      <th>Domestic</th>\n",
       "      <th>...</th>\n",
       "      <th>Ward</th>\n",
       "      <th>Community Area</th>\n",
       "      <th>FBI Code</th>\n",
       "      <th>X Coordinate</th>\n",
       "      <th>Y Coordinate</th>\n",
       "      <th>Year</th>\n",
       "      <th>Updated On</th>\n",
       "      <th>Latitude</th>\n",
       "      <th>Longitude</th>\n",
       "      <th>Location</th>\n",
       "    </tr>\n",
       "  </thead>\n",
       "  <tbody>\n",
       "    <tr>\n",
       "      <th>0</th>\n",
       "      <td>10508693</td>\n",
       "      <td>HZ250496</td>\n",
       "      <td>05/03/2016 11:40:00 PM</td>\n",
       "      <td>013XX S SAWYER AVE</td>\n",
       "      <td>0486</td>\n",
       "      <td>BATTERY</td>\n",
       "      <td>DOMESTIC BATTERY SIMPLE</td>\n",
       "      <td>APARTMENT</td>\n",
       "      <td>True</td>\n",
       "      <td>True</td>\n",
       "      <td>...</td>\n",
       "      <td>24.0</td>\n",
       "      <td>29.0</td>\n",
       "      <td>08B</td>\n",
       "      <td>1154907.0</td>\n",
       "      <td>1893681.0</td>\n",
       "      <td>2016</td>\n",
       "      <td>05/10/2016 03:56:50 PM</td>\n",
       "      <td>41.864073</td>\n",
       "      <td>-87.706819</td>\n",
       "      <td>(41.864073157, -87.706818608)</td>\n",
       "    </tr>\n",
       "    <tr>\n",
       "      <th>1</th>\n",
       "      <td>10508695</td>\n",
       "      <td>HZ250409</td>\n",
       "      <td>05/03/2016 09:40:00 PM</td>\n",
       "      <td>061XX S DREXEL AVE</td>\n",
       "      <td>0486</td>\n",
       "      <td>BATTERY</td>\n",
       "      <td>DOMESTIC BATTERY SIMPLE</td>\n",
       "      <td>RESIDENCE</td>\n",
       "      <td>False</td>\n",
       "      <td>True</td>\n",
       "      <td>...</td>\n",
       "      <td>20.0</td>\n",
       "      <td>42.0</td>\n",
       "      <td>08B</td>\n",
       "      <td>1183066.0</td>\n",
       "      <td>1864330.0</td>\n",
       "      <td>2016</td>\n",
       "      <td>05/10/2016 03:56:50 PM</td>\n",
       "      <td>41.782922</td>\n",
       "      <td>-87.604363</td>\n",
       "      <td>(41.782921527, -87.60436317)</td>\n",
       "    </tr>\n",
       "    <tr>\n",
       "      <th>2</th>\n",
       "      <td>10508697</td>\n",
       "      <td>HZ250503</td>\n",
       "      <td>05/03/2016 11:31:00 PM</td>\n",
       "      <td>053XX W CHICAGO AVE</td>\n",
       "      <td>0470</td>\n",
       "      <td>PUBLIC PEACE VIOLATION</td>\n",
       "      <td>RECKLESS CONDUCT</td>\n",
       "      <td>STREET</td>\n",
       "      <td>False</td>\n",
       "      <td>False</td>\n",
       "      <td>...</td>\n",
       "      <td>37.0</td>\n",
       "      <td>25.0</td>\n",
       "      <td>24</td>\n",
       "      <td>1140789.0</td>\n",
       "      <td>1904819.0</td>\n",
       "      <td>2016</td>\n",
       "      <td>05/10/2016 03:56:50 PM</td>\n",
       "      <td>41.894908</td>\n",
       "      <td>-87.758372</td>\n",
       "      <td>(41.894908283, -87.758371958)</td>\n",
       "    </tr>\n",
       "    <tr>\n",
       "      <th>3</th>\n",
       "      <td>10508698</td>\n",
       "      <td>HZ250424</td>\n",
       "      <td>05/03/2016 10:10:00 PM</td>\n",
       "      <td>049XX W FULTON ST</td>\n",
       "      <td>0460</td>\n",
       "      <td>BATTERY</td>\n",
       "      <td>SIMPLE</td>\n",
       "      <td>SIDEWALK</td>\n",
       "      <td>False</td>\n",
       "      <td>False</td>\n",
       "      <td>...</td>\n",
       "      <td>28.0</td>\n",
       "      <td>25.0</td>\n",
       "      <td>08B</td>\n",
       "      <td>1143223.0</td>\n",
       "      <td>1901475.0</td>\n",
       "      <td>2016</td>\n",
       "      <td>05/10/2016 03:56:50 PM</td>\n",
       "      <td>41.885687</td>\n",
       "      <td>-87.749516</td>\n",
       "      <td>(41.885686845, -87.749515983)</td>\n",
       "    </tr>\n",
       "    <tr>\n",
       "      <th>4</th>\n",
       "      <td>10508699</td>\n",
       "      <td>HZ250455</td>\n",
       "      <td>05/03/2016 10:00:00 PM</td>\n",
       "      <td>003XX N LOTUS AVE</td>\n",
       "      <td>0820</td>\n",
       "      <td>THEFT</td>\n",
       "      <td>$500 AND UNDER</td>\n",
       "      <td>RESIDENCE</td>\n",
       "      <td>False</td>\n",
       "      <td>True</td>\n",
       "      <td>...</td>\n",
       "      <td>28.0</td>\n",
       "      <td>25.0</td>\n",
       "      <td>06</td>\n",
       "      <td>1139890.0</td>\n",
       "      <td>1901675.0</td>\n",
       "      <td>2016</td>\n",
       "      <td>05/10/2016 03:56:50 PM</td>\n",
       "      <td>41.886297</td>\n",
       "      <td>-87.761751</td>\n",
       "      <td>(41.886297242, -87.761750709)</td>\n",
       "    </tr>\n",
       "  </tbody>\n",
       "</table>\n",
       "<p>5 rows × 22 columns</p>\n",
       "</div>"
      ],
      "text/plain": [
       "         ID Case Number                    Date                Block  IUCR  \\\n",
       "0  10508693    HZ250496  05/03/2016 11:40:00 PM   013XX S SAWYER AVE  0486   \n",
       "1  10508695    HZ250409  05/03/2016 09:40:00 PM   061XX S DREXEL AVE  0486   \n",
       "2  10508697    HZ250503  05/03/2016 11:31:00 PM  053XX W CHICAGO AVE  0470   \n",
       "3  10508698    HZ250424  05/03/2016 10:10:00 PM    049XX W FULTON ST  0460   \n",
       "4  10508699    HZ250455  05/03/2016 10:00:00 PM    003XX N LOTUS AVE  0820   \n",
       "\n",
       "             Primary Type              Description Location Description  \\\n",
       "0                 BATTERY  DOMESTIC BATTERY SIMPLE            APARTMENT   \n",
       "1                 BATTERY  DOMESTIC BATTERY SIMPLE            RESIDENCE   \n",
       "2  PUBLIC PEACE VIOLATION         RECKLESS CONDUCT               STREET   \n",
       "3                 BATTERY                   SIMPLE             SIDEWALK   \n",
       "4                   THEFT           $500 AND UNDER            RESIDENCE   \n",
       "\n",
       "   Arrest  Domestic  ...  Ward  Community Area  FBI Code  X Coordinate  \\\n",
       "0    True      True  ...  24.0            29.0       08B     1154907.0   \n",
       "1   False      True  ...  20.0            42.0       08B     1183066.0   \n",
       "2   False     False  ...  37.0            25.0        24     1140789.0   \n",
       "3   False     False  ...  28.0            25.0       08B     1143223.0   \n",
       "4   False      True  ...  28.0            25.0        06     1139890.0   \n",
       "\n",
       "  Y Coordinate  Year              Updated On   Latitude  Longitude  \\\n",
       "0    1893681.0  2016  05/10/2016 03:56:50 PM  41.864073 -87.706819   \n",
       "1    1864330.0  2016  05/10/2016 03:56:50 PM  41.782922 -87.604363   \n",
       "2    1904819.0  2016  05/10/2016 03:56:50 PM  41.894908 -87.758372   \n",
       "3    1901475.0  2016  05/10/2016 03:56:50 PM  41.885687 -87.749516   \n",
       "4    1901675.0  2016  05/10/2016 03:56:50 PM  41.886297 -87.761751   \n",
       "\n",
       "                        Location  \n",
       "0  (41.864073157, -87.706818608)  \n",
       "1   (41.782921527, -87.60436317)  \n",
       "2  (41.894908283, -87.758371958)  \n",
       "3  (41.885686845, -87.749515983)  \n",
       "4  (41.886297242, -87.761750709)  \n",
       "\n",
       "[5 rows x 22 columns]"
      ]
     },
     "execution_count": 191,
     "metadata": {},
     "output_type": "execute_result"
    }
   ],
   "source": [
    "crime.head()"
   ]
  },
  {
   "cell_type": "code",
   "execution_count": 155,
   "metadata": {},
   "outputs": [
    {
     "data": {
      "text/plain": [
       "(1456714, 21)"
      ]
     },
     "execution_count": 155,
     "metadata": {},
     "output_type": "execute_result"
    }
   ],
   "source": [
    "crime.shape"
   ]
  },
  {
   "cell_type": "code",
   "execution_count": 192,
   "metadata": {},
   "outputs": [
    {
     "data": {
      "text/plain": [
       "Index(['ID', 'Case Number', 'Date', 'Block', 'IUCR', 'Primary Type',\n",
       "       'Description', 'Location Description', 'Arrest', 'Domestic', 'Beat',\n",
       "       'District', 'Ward', 'Community Area', 'FBI Code', 'X Coordinate',\n",
       "       'Y Coordinate', 'Year', 'Updated On', 'Latitude', 'Longitude',\n",
       "       'Location'],\n",
       "      dtype='object')"
      ]
     },
     "execution_count": 192,
     "metadata": {},
     "output_type": "execute_result"
    }
   ],
   "source": [
    "crime.columns"
   ]
  },
  {
   "cell_type": "code",
   "execution_count": 157,
   "metadata": {},
   "outputs": [
    {
     "data": {
      "text/plain": [
       "THEFT                                329460\n",
       "BATTERY                              263700\n",
       "CRIMINAL DAMAGE                      155455\n",
       "NARCOTICS                            135240\n",
       "ASSAULT                               91289\n",
       "OTHER OFFENSE                         87874\n",
       "BURGLARY                              83397\n",
       "DECEPTIVE PRACTICE                    75495\n",
       "MOTOR VEHICLE THEFT                   61138\n",
       "ROBBERY                               57313\n",
       "CRIMINAL TRESPASS                     36912\n",
       "WEAPONS VIOLATION                     17233\n",
       "PUBLIC PEACE VIOLATION                13122\n",
       "OFFENSE INVOLVING CHILDREN            11398\n",
       "PROSTITUTION                           7633\n",
       "CRIM SEXUAL ASSAULT                    6823\n",
       "INTERFERENCE WITH PUBLIC OFFICER       6195\n",
       "SEX OFFENSE                            4885\n",
       "HOMICIDE                               2649\n",
       "ARSON                                  2217\n",
       "GAMBLING                               2212\n",
       "LIQUOR LAW VIOLATION                   1953\n",
       "KIDNAPPING                             1099\n",
       "STALKING                                828\n",
       "INTIMIDATION                            662\n",
       "OBSCENITY                               187\n",
       "NON-CRIMINAL                             93\n",
       "CONCEALED CARRY LICENSE VIOLATION        90\n",
       "PUBLIC INDECENCY                         62\n",
       "NON - CRIMINAL                           38\n",
       "OTHER NARCOTIC VIOLATION                 30\n",
       "HUMAN TRAFFICKING                        28\n",
       "NON-CRIMINAL (SUBJECT SPECIFIED)          4\n",
       "Name: Primary Type, dtype: int64"
      ]
     },
     "execution_count": 157,
     "metadata": {},
     "output_type": "execute_result"
    }
   ],
   "source": [
    "crime['Primary Type'].value_counts()"
   ]
  },
  {
   "cell_type": "code",
   "execution_count": 158,
   "metadata": {},
   "outputs": [
    {
     "data": {
      "text/plain": [
       "25.0    94730\n",
       "8.0     50290\n",
       "43.0    48909\n",
       "23.0    47093\n",
       "29.0    46151\n",
       "        ...  \n",
       "55.0     3209\n",
       "12.0     2543\n",
       "47.0     2197\n",
       "9.0      1433\n",
       "0.0        13\n",
       "Name: Community Area, Length: 78, dtype: int64"
      ]
     },
     "execution_count": 158,
     "metadata": {},
     "output_type": "execute_result"
    }
   ],
   "source": [
    "crime['Community Area'].value_counts()"
   ]
  },
  {
   "cell_type": "code",
   "execution_count": 159,
   "metadata": {},
   "outputs": [],
   "source": [
    "com_area = pd.read_csv('CommAreas.csv', header=0)"
   ]
  },
  {
   "cell_type": "code",
   "execution_count": 188,
   "metadata": {},
   "outputs": [
    {
     "data": {
      "text/html": [
       "<div>\n",
       "<style scoped>\n",
       "    .dataframe tbody tr th:only-of-type {\n",
       "        vertical-align: middle;\n",
       "    }\n",
       "\n",
       "    .dataframe tbody tr th {\n",
       "        vertical-align: top;\n",
       "    }\n",
       "\n",
       "    .dataframe thead th {\n",
       "        text-align: right;\n",
       "    }\n",
       "</style>\n",
       "<table border=\"1\" class=\"dataframe\">\n",
       "  <thead>\n",
       "    <tr style=\"text-align: right;\">\n",
       "      <th></th>\n",
       "      <th>the_geom</th>\n",
       "      <th>PERIMETER</th>\n",
       "      <th>AREA</th>\n",
       "      <th>COMAREA_</th>\n",
       "      <th>COMAREA_ID</th>\n",
       "      <th>Community Area</th>\n",
       "      <th>COMMUNITY</th>\n",
       "      <th>AREA_NUM_1</th>\n",
       "      <th>SHAPE_AREA</th>\n",
       "      <th>SHAPE_LEN</th>\n",
       "    </tr>\n",
       "  </thead>\n",
       "  <tbody>\n",
       "    <tr>\n",
       "      <th>0</th>\n",
       "      <td>MULTIPOLYGON (((-87.60914087617894 41.84469250...</td>\n",
       "      <td>0</td>\n",
       "      <td>0</td>\n",
       "      <td>0</td>\n",
       "      <td>0</td>\n",
       "      <td>35</td>\n",
       "      <td>DOUGLAS</td>\n",
       "      <td>35</td>\n",
       "      <td>46,004,621.1581</td>\n",
       "      <td>31,027.0545098</td>\n",
       "    </tr>\n",
       "    <tr>\n",
       "      <th>1</th>\n",
       "      <td>MULTIPOLYGON (((-87.59215283879394 41.81692934...</td>\n",
       "      <td>0</td>\n",
       "      <td>0</td>\n",
       "      <td>0</td>\n",
       "      <td>0</td>\n",
       "      <td>36</td>\n",
       "      <td>OAKLAND</td>\n",
       "      <td>36</td>\n",
       "      <td>16,913,961.0408</td>\n",
       "      <td>19,565.5061533</td>\n",
       "    </tr>\n",
       "    <tr>\n",
       "      <th>2</th>\n",
       "      <td>MULTIPOLYGON (((-87.62879823733725 41.80189303...</td>\n",
       "      <td>0</td>\n",
       "      <td>0</td>\n",
       "      <td>0</td>\n",
       "      <td>0</td>\n",
       "      <td>37</td>\n",
       "      <td>FULLER PARK</td>\n",
       "      <td>37</td>\n",
       "      <td>19,916,704.8692</td>\n",
       "      <td>25,339.0897503</td>\n",
       "    </tr>\n",
       "    <tr>\n",
       "      <th>3</th>\n",
       "      <td>MULTIPOLYGON (((-87.6067081256125 41.816813770...</td>\n",
       "      <td>0</td>\n",
       "      <td>0</td>\n",
       "      <td>0</td>\n",
       "      <td>0</td>\n",
       "      <td>38</td>\n",
       "      <td>GRAND BOULEVARD</td>\n",
       "      <td>38</td>\n",
       "      <td>48,492,503.1554</td>\n",
       "      <td>28,196.8371573</td>\n",
       "    </tr>\n",
       "    <tr>\n",
       "      <th>4</th>\n",
       "      <td>MULTIPOLYGON (((-87.59215283879394 41.81692934...</td>\n",
       "      <td>0</td>\n",
       "      <td>0</td>\n",
       "      <td>0</td>\n",
       "      <td>0</td>\n",
       "      <td>39</td>\n",
       "      <td>KENWOOD</td>\n",
       "      <td>39</td>\n",
       "      <td>29,071,741.9283</td>\n",
       "      <td>23,325.1679062</td>\n",
       "    </tr>\n",
       "  </tbody>\n",
       "</table>\n",
       "</div>"
      ],
      "text/plain": [
       "                                            the_geom  PERIMETER  AREA  \\\n",
       "0  MULTIPOLYGON (((-87.60914087617894 41.84469250...          0     0   \n",
       "1  MULTIPOLYGON (((-87.59215283879394 41.81692934...          0     0   \n",
       "2  MULTIPOLYGON (((-87.62879823733725 41.80189303...          0     0   \n",
       "3  MULTIPOLYGON (((-87.6067081256125 41.816813770...          0     0   \n",
       "4  MULTIPOLYGON (((-87.59215283879394 41.81692934...          0     0   \n",
       "\n",
       "   COMAREA_  COMAREA_ID  Community Area        COMMUNITY  AREA_NUM_1  \\\n",
       "0         0           0              35          DOUGLAS          35   \n",
       "1         0           0              36          OAKLAND          36   \n",
       "2         0           0              37      FULLER PARK          37   \n",
       "3         0           0              38  GRAND BOULEVARD          38   \n",
       "4         0           0              39          KENWOOD          39   \n",
       "\n",
       "        SHAPE_AREA       SHAPE_LEN  \n",
       "0  46,004,621.1581  31,027.0545098  \n",
       "1  16,913,961.0408  19,565.5061533  \n",
       "2  19,916,704.8692  25,339.0897503  \n",
       "3  48,492,503.1554  28,196.8371573  \n",
       "4  29,071,741.9283  23,325.1679062  "
      ]
     },
     "execution_count": 188,
     "metadata": {},
     "output_type": "execute_result"
    }
   ],
   "source": [
    "com_area.head()"
   ]
  },
  {
   "cell_type": "code",
   "execution_count": 193,
   "metadata": {},
   "outputs": [],
   "source": [
    "com_area.rename({'AREA_NUMBE':'Community Area'},axis=1,inplace=True)"
   ]
  },
  {
   "cell_type": "code",
   "execution_count": 194,
   "metadata": {},
   "outputs": [],
   "source": [
    "inner_join= pd.merge(crime,  \n",
    "                      com_area[['Community Area','COMMUNITY']],  \n",
    "                      on ='Community Area',  \n",
    "                      how ='left').set_index('Date')\n"
   ]
  },
  {
   "cell_type": "code",
   "execution_count": 195,
   "metadata": {},
   "outputs": [],
   "source": [
    "crime = inner_join"
   ]
  },
  {
   "cell_type": "code",
   "execution_count": 196,
   "metadata": {},
   "outputs": [
    {
     "data": {
      "text/plain": [
       "AUSTIN             94730\n",
       "NEAR NORTH SIDE    50290\n",
       "SOUTH SHORE        48909\n",
       "HUMBOLDT PARK      47093\n",
       "NORTH LAWNDALE     46151\n",
       "                   ...  \n",
       "MONTCLARE           3231\n",
       "HEGEWISCH           3209\n",
       "FOREST GLEN         2543\n",
       "BURNSIDE            2197\n",
       "EDISON PARK         1433\n",
       "Name: COMMUNITY, Length: 77, dtype: int64"
      ]
     },
     "execution_count": 196,
     "metadata": {},
     "output_type": "execute_result"
    }
   ],
   "source": [
    "crime['COMMUNITY'].value_counts()"
   ]
  },
  {
   "cell_type": "code",
   "execution_count": 82,
   "metadata": {},
   "outputs": [
    {
     "name": "stderr",
     "output_type": "stream",
     "text": [
      "/Users/ryanfisher/opt/anaconda3/lib/python3.7/site-packages/ipykernel_launcher.py:1: SettingWithCopyWarning: \n",
      "A value is trying to be set on a copy of a slice from a DataFrame.\n",
      "Try using .loc[row_indexer,col_indexer] = value instead\n",
      "\n",
      "See the caveats in the documentation: https://pandas.pydata.org/pandas-docs/stable/user_guide/indexing.html#returning-a-view-versus-a-copy\n",
      "  \"\"\"Entry point for launching an IPython kernel.\n"
     ]
    }
   ],
   "source": [
    "series['Date'] = pd.to_datetime(series['Date'], format='%m/%d/%Y %I:%M:%S %p')\n"
   ]
  },
  {
   "cell_type": "code",
   "execution_count": 197,
   "metadata": {},
   "outputs": [
    {
     "data": {
      "text/plain": [
       "<matplotlib.axes._subplots.AxesSubplot at 0x7fd2222025d0>"
      ]
     },
     "execution_count": 197,
     "metadata": {},
     "output_type": "execute_result"
    },
    {
     "data": {
      "image/png": "[encoded data removed]",
      "text/plain": [
       "<Figure size 1080x720 with 1 Axes>"
      ]
     },
     "metadata": {
      "needs_background": "light"
     },
     "output_type": "display_data"
    }
   ],
   "source": [
    "plt.figure(figsize = (15, 10))\n",
    "sns.countplot(y= 'Primary Type', data = crime, order = crime['Primary Type'].value_counts().iloc[:10].index)"
   ]
  },
  {
   "cell_type": "code",
   "execution_count": 198,
   "metadata": {},
   "outputs": [
    {
     "data": {
      "text/plain": [
       "<matplotlib.axes._subplots.AxesSubplot at 0x7fd296aaed50>"
      ]
     },
     "execution_count": 198,
     "metadata": {},
     "output_type": "execute_result"
    },
    {
     "data": {
      "image/png": "[encoded data removed]",
      "text/plain": [
       "<Figure size 1080x720 with 1 Axes>"
      ]
     },
     "metadata": {
      "needs_background": "light"
     },
     "output_type": "display_data"
    }
   ],
   "source": [
    "plt.figure(figsize = (15, 10))\n",
    "sns.countplot(y= 'COMMUNITY', data = crime, order = crime['COMMUNITY'].value_counts().iloc[:10].index)"
   ]
  },
  {
   "cell_type": "code",
   "execution_count": 199,
   "metadata": {},
   "outputs": [
    {
     "data": {
      "text/plain": [
       "<matplotlib.axes._subplots.AxesSubplot at 0x7fd3348f22d0>"
      ]
     },
     "execution_count": 199,
     "metadata": {},
     "output_type": "execute_result"
    },
    {
     "data": {
      "image/png": "[encoded data removed]",
      "text/plain": [
       "<Figure size 1080x720 with 1 Axes>"
      ]
     },
     "metadata": {
      "needs_background": "light"
     },
     "output_type": "display_data"
    }
   ],
   "source": [
    "plt.figure(figsize = (15, 10))\n",
    "sns.countplot(y= 'Location Description', data = crime, order = crime['Location Description'].value_counts().iloc[:10].index)"
   ]
  },
  {
   "cell_type": "code",
   "execution_count": 200,
   "metadata": {},
   "outputs": [],
   "source": [
    "crime_austin = crime.loc[crime['COMMUNITY'] == 'AUSTIN']"
   ]
  },
  {
   "cell_type": "code",
   "execution_count": 201,
   "metadata": {},
   "outputs": [
    {
     "data": {
      "text/plain": [
       "<matplotlib.axes._subplots.AxesSubplot at 0x7fd163a14390>"
      ]
     },
     "execution_count": 201,
     "metadata": {},
     "output_type": "execute_result"
    },
    {
     "data": {
      "image/png": "[encoded data removed]",
      "text/plain": [
       "<Figure size 1080x720 with 1 Axes>"
      ]
     },
     "metadata": {
      "needs_background": "light"
     },
     "output_type": "display_data"
    }
   ],
   "source": [
    "plt.figure(figsize = (15, 10))\n",
    "sns.countplot(y= 'Primary Type', data = crime_austin, order = crime_austin['Primary Type'].value_counts().iloc[:10].index)"
   ]
  },
  {
   "cell_type": "code",
   "execution_count": 202,
   "metadata": {},
   "outputs": [
    {
     "data": {
      "text/plain": [
       "<matplotlib.axes._subplots.AxesSubplot at 0x7fd163851d50>"
      ]
     },
     "execution_count": 202,
     "metadata": {},
     "output_type": "execute_result"
    },
    {
     "data": {
      "image/png": "[encoded data removed]",
      "text/plain": [
       "<Figure size 1080x720 with 1 Axes>"
      ]
     },
     "metadata": {
      "needs_background": "light"
     },
     "output_type": "display_data"
    }
   ],
   "source": [
    "crime_near_north = crime.loc[crime['COMMUNITY'] == 'NEAR NORTH SIDE']\n",
    "plt.figure(figsize = (15, 10))\n",
    "sns.countplot(y= 'Primary Type', data = crime_near_north, order = crime_near_north['Primary Type'].value_counts().iloc[:10].index)"
   ]
  },
  {
   "cell_type": "code",
   "execution_count": 205,
   "metadata": {},
   "outputs": [
    {
     "data": {
      "text/html": [
       "<div>\n",
       "<style scoped>\n",
       "    .dataframe tbody tr th:only-of-type {\n",
       "        vertical-align: middle;\n",
       "    }\n",
       "\n",
       "    .dataframe tbody tr th {\n",
       "        vertical-align: top;\n",
       "    }\n",
       "\n",
       "    .dataframe thead th {\n",
       "        text-align: right;\n",
       "    }\n",
       "</style>\n",
       "<table border=\"1\" class=\"dataframe\">\n",
       "  <thead>\n",
       "    <tr style=\"text-align: right;\">\n",
       "      <th></th>\n",
       "      <th>ID</th>\n",
       "      <th>Case Number</th>\n",
       "      <th>Block</th>\n",
       "      <th>IUCR</th>\n",
       "      <th>Primary Type</th>\n",
       "      <th>Description</th>\n",
       "      <th>Location Description</th>\n",
       "      <th>Arrest</th>\n",
       "      <th>Domestic</th>\n",
       "      <th>Beat</th>\n",
       "      <th>...</th>\n",
       "      <th>Community Area</th>\n",
       "      <th>FBI Code</th>\n",
       "      <th>X Coordinate</th>\n",
       "      <th>Y Coordinate</th>\n",
       "      <th>Year</th>\n",
       "      <th>Updated On</th>\n",
       "      <th>Latitude</th>\n",
       "      <th>Longitude</th>\n",
       "      <th>Location</th>\n",
       "      <th>COMMUNITY</th>\n",
       "    </tr>\n",
       "    <tr>\n",
       "      <th>Date</th>\n",
       "      <th></th>\n",
       "      <th></th>\n",
       "      <th></th>\n",
       "      <th></th>\n",
       "      <th></th>\n",
       "      <th></th>\n",
       "      <th></th>\n",
       "      <th></th>\n",
       "      <th></th>\n",
       "      <th></th>\n",
       "      <th></th>\n",
       "      <th></th>\n",
       "      <th></th>\n",
       "      <th></th>\n",
       "      <th></th>\n",
       "      <th></th>\n",
       "      <th></th>\n",
       "      <th></th>\n",
       "      <th></th>\n",
       "      <th></th>\n",
       "      <th></th>\n",
       "    </tr>\n",
       "  </thead>\n",
       "  <tbody>\n",
       "    <tr>\n",
       "      <th>05/03/2016 11:40:00 PM</th>\n",
       "      <td>10508693</td>\n",
       "      <td>HZ250496</td>\n",
       "      <td>013XX S SAWYER AVE</td>\n",
       "      <td>0486</td>\n",
       "      <td>BATTERY</td>\n",
       "      <td>DOMESTIC BATTERY SIMPLE</td>\n",
       "      <td>APARTMENT</td>\n",
       "      <td>True</td>\n",
       "      <td>True</td>\n",
       "      <td>1022</td>\n",
       "      <td>...</td>\n",
       "      <td>29.0</td>\n",
       "      <td>08B</td>\n",
       "      <td>1154907.0</td>\n",
       "      <td>1893681.0</td>\n",
       "      <td>2016</td>\n",
       "      <td>05/10/2016 03:56:50 PM</td>\n",
       "      <td>41.864073</td>\n",
       "      <td>-87.706819</td>\n",
       "      <td>(41.864073157, -87.706818608)</td>\n",
       "      <td>NORTH LAWNDALE</td>\n",
       "    </tr>\n",
       "    <tr>\n",
       "      <th>05/03/2016 09:40:00 PM</th>\n",
       "      <td>10508695</td>\n",
       "      <td>HZ250409</td>\n",
       "      <td>061XX S DREXEL AVE</td>\n",
       "      <td>0486</td>\n",
       "      <td>BATTERY</td>\n",
       "      <td>DOMESTIC BATTERY SIMPLE</td>\n",
       "      <td>RESIDENCE</td>\n",
       "      <td>False</td>\n",
       "      <td>True</td>\n",
       "      <td>313</td>\n",
       "      <td>...</td>\n",
       "      <td>42.0</td>\n",
       "      <td>08B</td>\n",
       "      <td>1183066.0</td>\n",
       "      <td>1864330.0</td>\n",
       "      <td>2016</td>\n",
       "      <td>05/10/2016 03:56:50 PM</td>\n",
       "      <td>41.782922</td>\n",
       "      <td>-87.604363</td>\n",
       "      <td>(41.782921527, -87.60436317)</td>\n",
       "      <td>WOODLAWN</td>\n",
       "    </tr>\n",
       "    <tr>\n",
       "      <th>05/03/2016 11:31:00 PM</th>\n",
       "      <td>10508697</td>\n",
       "      <td>HZ250503</td>\n",
       "      <td>053XX W CHICAGO AVE</td>\n",
       "      <td>0470</td>\n",
       "      <td>PUBLIC PEACE VIOLATION</td>\n",
       "      <td>RECKLESS CONDUCT</td>\n",
       "      <td>STREET</td>\n",
       "      <td>False</td>\n",
       "      <td>False</td>\n",
       "      <td>1524</td>\n",
       "      <td>...</td>\n",
       "      <td>25.0</td>\n",
       "      <td>24</td>\n",
       "      <td>1140789.0</td>\n",
       "      <td>1904819.0</td>\n",
       "      <td>2016</td>\n",
       "      <td>05/10/2016 03:56:50 PM</td>\n",
       "      <td>41.894908</td>\n",
       "      <td>-87.758372</td>\n",
       "      <td>(41.894908283, -87.758371958)</td>\n",
       "      <td>AUSTIN</td>\n",
       "    </tr>\n",
       "    <tr>\n",
       "      <th>05/03/2016 10:10:00 PM</th>\n",
       "      <td>10508698</td>\n",
       "      <td>HZ250424</td>\n",
       "      <td>049XX W FULTON ST</td>\n",
       "      <td>0460</td>\n",
       "      <td>BATTERY</td>\n",
       "      <td>SIMPLE</td>\n",
       "      <td>SIDEWALK</td>\n",
       "      <td>False</td>\n",
       "      <td>False</td>\n",
       "      <td>1532</td>\n",
       "      <td>...</td>\n",
       "      <td>25.0</td>\n",
       "      <td>08B</td>\n",
       "      <td>1143223.0</td>\n",
       "      <td>1901475.0</td>\n",
       "      <td>2016</td>\n",
       "      <td>05/10/2016 03:56:50 PM</td>\n",
       "      <td>41.885687</td>\n",
       "      <td>-87.749516</td>\n",
       "      <td>(41.885686845, -87.749515983)</td>\n",
       "      <td>AUSTIN</td>\n",
       "    </tr>\n",
       "    <tr>\n",
       "      <th>05/03/2016 10:00:00 PM</th>\n",
       "      <td>10508699</td>\n",
       "      <td>HZ250455</td>\n",
       "      <td>003XX N LOTUS AVE</td>\n",
       "      <td>0820</td>\n",
       "      <td>THEFT</td>\n",
       "      <td>$500 AND UNDER</td>\n",
       "      <td>RESIDENCE</td>\n",
       "      <td>False</td>\n",
       "      <td>True</td>\n",
       "      <td>1523</td>\n",
       "      <td>...</td>\n",
       "      <td>25.0</td>\n",
       "      <td>06</td>\n",
       "      <td>1139890.0</td>\n",
       "      <td>1901675.0</td>\n",
       "      <td>2016</td>\n",
       "      <td>05/10/2016 03:56:50 PM</td>\n",
       "      <td>41.886297</td>\n",
       "      <td>-87.761751</td>\n",
       "      <td>(41.886297242, -87.761750709)</td>\n",
       "      <td>AUSTIN</td>\n",
       "    </tr>\n",
       "    <tr>\n",
       "      <th>...</th>\n",
       "      <td>...</td>\n",
       "      <td>...</td>\n",
       "      <td>...</td>\n",
       "      <td>...</td>\n",
       "      <td>...</td>\n",
       "      <td>...</td>\n",
       "      <td>...</td>\n",
       "      <td>...</td>\n",
       "      <td>...</td>\n",
       "      <td>...</td>\n",
       "      <td>...</td>\n",
       "      <td>...</td>\n",
       "      <td>...</td>\n",
       "      <td>...</td>\n",
       "      <td>...</td>\n",
       "      <td>...</td>\n",
       "      <td>...</td>\n",
       "      <td>...</td>\n",
       "      <td>...</td>\n",
       "      <td>...</td>\n",
       "      <td>...</td>\n",
       "    </tr>\n",
       "    <tr>\n",
       "      <th>05/03/2016 11:33:00 PM</th>\n",
       "      <td>10508679</td>\n",
       "      <td>HZ250507</td>\n",
       "      <td>026XX W 23RD PL</td>\n",
       "      <td>0486</td>\n",
       "      <td>BATTERY</td>\n",
       "      <td>DOMESTIC BATTERY SIMPLE</td>\n",
       "      <td>APARTMENT</td>\n",
       "      <td>True</td>\n",
       "      <td>True</td>\n",
       "      <td>1034</td>\n",
       "      <td>...</td>\n",
       "      <td>30.0</td>\n",
       "      <td>08B</td>\n",
       "      <td>1159105.0</td>\n",
       "      <td>1888300.0</td>\n",
       "      <td>2016</td>\n",
       "      <td>05/10/2016 03:56:50 PM</td>\n",
       "      <td>41.849222</td>\n",
       "      <td>-87.691556</td>\n",
       "      <td>(41.849222028, -87.69155551)</td>\n",
       "      <td>SOUTH LAWNDALE</td>\n",
       "    </tr>\n",
       "    <tr>\n",
       "      <th>05/03/2016 11:30:00 PM</th>\n",
       "      <td>10508680</td>\n",
       "      <td>HZ250491</td>\n",
       "      <td>073XX S HARVARD AVE</td>\n",
       "      <td>1310</td>\n",
       "      <td>CRIMINAL DAMAGE</td>\n",
       "      <td>TO PROPERTY</td>\n",
       "      <td>APARTMENT</td>\n",
       "      <td>True</td>\n",
       "      <td>True</td>\n",
       "      <td>731</td>\n",
       "      <td>...</td>\n",
       "      <td>69.0</td>\n",
       "      <td>14</td>\n",
       "      <td>1175230.0</td>\n",
       "      <td>1856183.0</td>\n",
       "      <td>2016</td>\n",
       "      <td>05/10/2016 03:56:50 PM</td>\n",
       "      <td>41.760744</td>\n",
       "      <td>-87.633335</td>\n",
       "      <td>(41.760743949, -87.63333531)</td>\n",
       "      <td>GREATER GRAND CROSSING</td>\n",
       "    </tr>\n",
       "    <tr>\n",
       "      <th>05/03/2016 12:15:00 AM</th>\n",
       "      <td>10508681</td>\n",
       "      <td>HZ250479</td>\n",
       "      <td>024XX W 63RD ST</td>\n",
       "      <td>041A</td>\n",
       "      <td>BATTERY</td>\n",
       "      <td>AGGRAVATED: HANDGUN</td>\n",
       "      <td>SIDEWALK</td>\n",
       "      <td>False</td>\n",
       "      <td>False</td>\n",
       "      <td>825</td>\n",
       "      <td>...</td>\n",
       "      <td>66.0</td>\n",
       "      <td>04B</td>\n",
       "      <td>1161027.0</td>\n",
       "      <td>1862810.0</td>\n",
       "      <td>2016</td>\n",
       "      <td>05/10/2016 03:56:50 PM</td>\n",
       "      <td>41.779235</td>\n",
       "      <td>-87.685207</td>\n",
       "      <td>(41.779234743, -87.685207125)</td>\n",
       "      <td>CHICAGO LAWN</td>\n",
       "    </tr>\n",
       "    <tr>\n",
       "      <th>05/03/2016 09:07:00 PM</th>\n",
       "      <td>10508690</td>\n",
       "      <td>HZ250370</td>\n",
       "      <td>082XX S EXCHANGE AVE</td>\n",
       "      <td>0486</td>\n",
       "      <td>BATTERY</td>\n",
       "      <td>DOMESTIC BATTERY SIMPLE</td>\n",
       "      <td>SIDEWALK</td>\n",
       "      <td>False</td>\n",
       "      <td>True</td>\n",
       "      <td>423</td>\n",
       "      <td>...</td>\n",
       "      <td>46.0</td>\n",
       "      <td>08B</td>\n",
       "      <td>1197261.0</td>\n",
       "      <td>1850727.0</td>\n",
       "      <td>2016</td>\n",
       "      <td>05/10/2016 03:56:50 PM</td>\n",
       "      <td>41.745252</td>\n",
       "      <td>-87.552773</td>\n",
       "      <td>(41.745251975, -87.552773464)</td>\n",
       "      <td>SOUTH CHICAGO</td>\n",
       "    </tr>\n",
       "    <tr>\n",
       "      <th>05/03/2016 11:38:00 PM</th>\n",
       "      <td>10508692</td>\n",
       "      <td>HZ250517</td>\n",
       "      <td>001XX E 75TH ST</td>\n",
       "      <td>5007</td>\n",
       "      <td>OTHER OFFENSE</td>\n",
       "      <td>OTHER WEAPONS VIOLATION</td>\n",
       "      <td>PARKING LOT/GARAGE(NON.RESID.)</td>\n",
       "      <td>True</td>\n",
       "      <td>False</td>\n",
       "      <td>323</td>\n",
       "      <td>...</td>\n",
       "      <td>69.0</td>\n",
       "      <td>26</td>\n",
       "      <td>1178696.0</td>\n",
       "      <td>1855324.0</td>\n",
       "      <td>2016</td>\n",
       "      <td>05/10/2016 03:56:50 PM</td>\n",
       "      <td>41.758309</td>\n",
       "      <td>-87.620658</td>\n",
       "      <td>(41.75830866, -87.620658418)</td>\n",
       "      <td>GREATER GRAND CROSSING</td>\n",
       "    </tr>\n",
       "  </tbody>\n",
       "</table>\n",
       "<p>1456714 rows × 22 columns</p>\n",
       "</div>"
      ],
      "text/plain": [
       "                              ID Case Number                 Block  IUCR  \\\n",
       "Date                                                                       \n",
       "05/03/2016 11:40:00 PM  10508693    HZ250496    013XX S SAWYER AVE  0486   \n",
       "05/03/2016 09:40:00 PM  10508695    HZ250409    061XX S DREXEL AVE  0486   \n",
       "05/03/2016 11:31:00 PM  10508697    HZ250503   053XX W CHICAGO AVE  0470   \n",
       "05/03/2016 10:10:00 PM  10508698    HZ250424     049XX W FULTON ST  0460   \n",
       "05/03/2016 10:00:00 PM  10508699    HZ250455     003XX N LOTUS AVE  0820   \n",
       "...                          ...         ...                   ...   ...   \n",
       "05/03/2016 11:33:00 PM  10508679    HZ250507       026XX W 23RD PL  0486   \n",
       "05/03/2016 11:30:00 PM  10508680    HZ250491   073XX S HARVARD AVE  1310   \n",
       "05/03/2016 12:15:00 AM  10508681    HZ250479       024XX W 63RD ST  041A   \n",
       "05/03/2016 09:07:00 PM  10508690    HZ250370  082XX S EXCHANGE AVE  0486   \n",
       "05/03/2016 11:38:00 PM  10508692    HZ250517       001XX E 75TH ST  5007   \n",
       "\n",
       "                                  Primary Type              Description  \\\n",
       "Date                                                                      \n",
       "05/03/2016 11:40:00 PM                 BATTERY  DOMESTIC BATTERY SIMPLE   \n",
       "05/03/2016 09:40:00 PM                 BATTERY  DOMESTIC BATTERY SIMPLE   \n",
       "05/03/2016 11:31:00 PM  PUBLIC PEACE VIOLATION         RECKLESS CONDUCT   \n",
       "05/03/2016 10:10:00 PM                 BATTERY                   SIMPLE   \n",
       "05/03/2016 10:00:00 PM                   THEFT           $500 AND UNDER   \n",
       "...                                        ...                      ...   \n",
       "05/03/2016 11:33:00 PM                 BATTERY  DOMESTIC BATTERY SIMPLE   \n",
       "05/03/2016 11:30:00 PM         CRIMINAL DAMAGE              TO PROPERTY   \n",
       "05/03/2016 12:15:00 AM                 BATTERY      AGGRAVATED: HANDGUN   \n",
       "05/03/2016 09:07:00 PM                 BATTERY  DOMESTIC BATTERY SIMPLE   \n",
       "05/03/2016 11:38:00 PM           OTHER OFFENSE  OTHER WEAPONS VIOLATION   \n",
       "\n",
       "                                  Location Description  Arrest  Domestic  \\\n",
       "Date                                                                       \n",
       "05/03/2016 11:40:00 PM                       APARTMENT    True      True   \n",
       "05/03/2016 09:40:00 PM                       RESIDENCE   False      True   \n",
       "05/03/2016 11:31:00 PM                          STREET   False     False   \n",
       "05/03/2016 10:10:00 PM                        SIDEWALK   False     False   \n",
       "05/03/2016 10:00:00 PM                       RESIDENCE   False      True   \n",
       "...                                                ...     ...       ...   \n",
       "05/03/2016 11:33:00 PM                       APARTMENT    True      True   \n",
       "05/03/2016 11:30:00 PM                       APARTMENT    True      True   \n",
       "05/03/2016 12:15:00 AM                        SIDEWALK   False     False   \n",
       "05/03/2016 09:07:00 PM                        SIDEWALK   False      True   \n",
       "05/03/2016 11:38:00 PM  PARKING LOT/GARAGE(NON.RESID.)    True     False   \n",
       "\n",
       "                        Beat  ...  Community Area  FBI Code  X Coordinate  \\\n",
       "Date                          ...                                           \n",
       "05/03/2016 11:40:00 PM  1022  ...            29.0       08B     1154907.0   \n",
       "05/03/2016 09:40:00 PM   313  ...            42.0       08B     1183066.0   \n",
       "05/03/2016 11:31:00 PM  1524  ...            25.0        24     1140789.0   \n",
       "05/03/2016 10:10:00 PM  1532  ...            25.0       08B     1143223.0   \n",
       "05/03/2016 10:00:00 PM  1523  ...            25.0        06     1139890.0   \n",
       "...                      ...  ...             ...       ...           ...   \n",
       "05/03/2016 11:33:00 PM  1034  ...            30.0       08B     1159105.0   \n",
       "05/03/2016 11:30:00 PM   731  ...            69.0        14     1175230.0   \n",
       "05/03/2016 12:15:00 AM   825  ...            66.0       04B     1161027.0   \n",
       "05/03/2016 09:07:00 PM   423  ...            46.0       08B     1197261.0   \n",
       "05/03/2016 11:38:00 PM   323  ...            69.0        26     1178696.0   \n",
       "\n",
       "                       Y Coordinate  Year              Updated On   Latitude  \\\n",
       "Date                                                                           \n",
       "05/03/2016 11:40:00 PM    1893681.0  2016  05/10/2016 03:56:50 PM  41.864073   \n",
       "05/03/2016 09:40:00 PM    1864330.0  2016  05/10/2016 03:56:50 PM  41.782922   \n",
       "05/03/2016 11:31:00 PM    1904819.0  2016  05/10/2016 03:56:50 PM  41.894908   \n",
       "05/03/2016 10:10:00 PM    1901475.0  2016  05/10/2016 03:56:50 PM  41.885687   \n",
       "05/03/2016 10:00:00 PM    1901675.0  2016  05/10/2016 03:56:50 PM  41.886297   \n",
       "...                             ...   ...                     ...        ...   \n",
       "05/03/2016 11:33:00 PM    1888300.0  2016  05/10/2016 03:56:50 PM  41.849222   \n",
       "05/03/2016 11:30:00 PM    1856183.0  2016  05/10/2016 03:56:50 PM  41.760744   \n",
       "05/03/2016 12:15:00 AM    1862810.0  2016  05/10/2016 03:56:50 PM  41.779235   \n",
       "05/03/2016 09:07:00 PM    1850727.0  2016  05/10/2016 03:56:50 PM  41.745252   \n",
       "05/03/2016 11:38:00 PM    1855324.0  2016  05/10/2016 03:56:50 PM  41.758309   \n",
       "\n",
       "                        Longitude                       Location  \\\n",
       "Date                                                               \n",
       "05/03/2016 11:40:00 PM -87.706819  (41.864073157, -87.706818608)   \n",
       "05/03/2016 09:40:00 PM -87.604363   (41.782921527, -87.60436317)   \n",
       "05/03/2016 11:31:00 PM -87.758372  (41.894908283, -87.758371958)   \n",
       "05/03/2016 10:10:00 PM -87.749516  (41.885686845, -87.749515983)   \n",
       "05/03/2016 10:00:00 PM -87.761751  (41.886297242, -87.761750709)   \n",
       "...                           ...                            ...   \n",
       "05/03/2016 11:33:00 PM -87.691556   (41.849222028, -87.69155551)   \n",
       "05/03/2016 11:30:00 PM -87.633335   (41.760743949, -87.63333531)   \n",
       "05/03/2016 12:15:00 AM -87.685207  (41.779234743, -87.685207125)   \n",
       "05/03/2016 09:07:00 PM -87.552773  (41.745251975, -87.552773464)   \n",
       "05/03/2016 11:38:00 PM -87.620658   (41.75830866, -87.620658418)   \n",
       "\n",
       "                                     COMMUNITY  \n",
       "Date                                            \n",
       "05/03/2016 11:40:00 PM          NORTH LAWNDALE  \n",
       "05/03/2016 09:40:00 PM                WOODLAWN  \n",
       "05/03/2016 11:31:00 PM                  AUSTIN  \n",
       "05/03/2016 10:10:00 PM                  AUSTIN  \n",
       "05/03/2016 10:00:00 PM                  AUSTIN  \n",
       "...                                        ...  \n",
       "05/03/2016 11:33:00 PM          SOUTH LAWNDALE  \n",
       "05/03/2016 11:30:00 PM  GREATER GRAND CROSSING  \n",
       "05/03/2016 12:15:00 AM            CHICAGO LAWN  \n",
       "05/03/2016 09:07:00 PM           SOUTH CHICAGO  \n",
       "05/03/2016 11:38:00 PM  GREATER GRAND CROSSING  \n",
       "\n",
       "[1456714 rows x 22 columns]"
      ]
     },
     "execution_count": 205,
     "metadata": {},
     "output_type": "execute_result"
    }
   ],
   "source": [
    "crime"
   ]
  },
  {
   "cell_type": "code",
   "execution_count": 206,
   "metadata": {},
   "outputs": [],
   "source": [
    "crime.index = pd.to_datetime(crime.index)"
   ]
  },
  {
   "cell_type": "code",
   "execution_count": 212,
   "metadata": {},
   "outputs": [
    {
     "name": "stdout",
     "output_type": "stream",
     "text": [
      "Date\n",
      "2016-05-03 23:40:00    True\n",
      "2016-05-03 21:44:00    True\n",
      "2016-05-03 23:11:00    True\n",
      "2016-05-04 11:15:00    True\n",
      "2016-05-04 11:30:00    True\n",
      "Name: Arrest, dtype: bool\n"
     ]
    }
   ],
   "source": [
    "arrested = crime[crime['Arrest'] == True]['Arrest']\n",
    "print(domestic_yearly.head())"
   ]
  },
  {
   "cell_type": "code",
   "execution_count": 214,
   "metadata": {},
   "outputs": [
    {
     "data": {
      "image/png": "[encoded data removed]",
      "text/plain": [
       "<Figure size 432x288 with 1 Axes>"
      ]
     },
     "metadata": {
      "needs_background": "light"
     },
     "output_type": "display_data"
    },
    {
     "data": {
      "image/png": "[encoded data removed]",
      "text/plain": [
       "<Figure size 432x288 with 1 Axes>"
      ]
     },
     "metadata": {
      "needs_background": "light"
     },
     "output_type": "display_data"
    },
    {
     "data": {
      "image/png": "[encoded data removed]",
      "text/plain": [
       "<Figure size 432x288 with 1 Axes>"
      ]
     },
     "metadata": {
      "needs_background": "light"
     },
     "output_type": "display_data"
    },
    {
     "data": {
      "image/png": "[encoded data removed]",
      "text/plain": [
       "<Figure size 432x288 with 1 Axes>"
      ]
     },
     "metadata": {
      "needs_background": "light"
     },
     "output_type": "display_data"
    }
   ],
   "source": [
    "plt.subplot()\n",
    "# yearly domestic violence\n",
    "arrested.resample('A').sum().plot()\n",
    "plt.title('Yearly Arrests')\n",
    "plt.show()\n",
    "# Monthly domestic violence\n",
    "arrested.resample('M').sum().plot()\n",
    "plt.title('Monthly Arrests')\n",
    "plt.show()\n",
    "# Weekly domestic violence\n",
    "arrested.resample('W').sum().plot()\n",
    "plt.title('Weekly Arrests')\n",
    "plt.show()\n",
    "# daily domestic violence\n",
    "arrested.resample('D').sum().plot()\n",
    "plt.title('Daily Arrests')\n",
    "plt.show()\n",
    "plt.show()"
   ]
  },
  {
   "cell_type": "code",
   "execution_count": null,
   "metadata": {},
   "outputs": [],
   "source": []
  },
  {
   "cell_type": "code",
   "execution_count": null,
   "metadata": {},
   "outputs": [],
   "source": []
  }
 ],
 "metadata": {
  "kernelspec": {
   "display_name": "Python 3",
   "language": "python",
   "name": "python3"
  },
  "language_info": {
   "codemirror_mode": {
    "name": "ipython",
    "version": 3
   },
   "file_extension": ".py",
   "mimetype": "text/x-python",
   "name": "python",
   "nbconvert_exporter": "python",
   "pygments_lexer": "ipython3",
   "version": "3.7.6"
  }
 },
 "nbformat": 4,
 "nbformat_minor": 4
}
